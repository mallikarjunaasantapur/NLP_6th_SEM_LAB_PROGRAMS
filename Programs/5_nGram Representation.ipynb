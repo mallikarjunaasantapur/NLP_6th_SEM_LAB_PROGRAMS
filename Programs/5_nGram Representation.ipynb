{
 "cells": [
  {
   "cell_type": "markdown",
   "metadata": {},
   "source": [
    "# Generate n-gram representation of the corpus.\n",
    "\n",
    "Generate n-gram representation for the given corpus and perform following operation on the corpus.\n",
    "1. Preprocessing the corpus for n-gram representation\n",
    "2. Display all tokens, distinct tokens and frequency of tokens in the corpus.\n",
    "3. Bi-Gram and frequency represenation using user defined functions.\n",
    "4. Tri-Gram and frequency representation using user defined functions.\n"
   ]
  },
  {
   "cell_type": "code",
   "execution_count": 1,
   "metadata": {},
   "outputs": [],
   "source": [
    "import nltk"
   ]
  },
  {
   "cell_type": "code",
   "execution_count": 2,
   "metadata": {},
   "outputs": [
    {
     "name": "stdout",
     "output_type": "stream",
     "text": [
      "The Arabian knights.These are the fairy tales of the east.The stories of the Arabian knights are translated in many languages\n"
     ]
    }
   ],
   "source": [
    "with open('../Rizzources/NGRAM.txt') as f:\n",
    "    corpus = f.readline()\n",
    "print(corpus)"
   ]
  },
  {
   "cell_type": "markdown",
   "metadata": {},
   "source": [
    "## 2. Preprocessing"
   ]
  },
  {
   "cell_type": "code",
   "execution_count": 3,
   "metadata": {},
   "outputs": [
    {
     "name": "stdout",
     "output_type": "stream",
     "text": [
      "preprocessed Data Corpus = \n",
      " eos the arabian knights eos these are the fairy tales of the east eos the stories of the arabian knights are translated in many languages\n"
     ]
    }
   ],
   "source": [
    "corpus = corpus.lower()\n",
    "corpus = \"eos \"+corpus\n",
    "corpus = corpus.replace(\".\",\" eos \")\n",
    "print(\"preprocessed Data Corpus = \\n\", corpus)"
   ]
  },
  {
   "cell_type": "markdown",
   "metadata": {},
   "source": [
    "## 4. Tokenization"
   ]
  },
  {
   "cell_type": "code",
   "execution_count": 5,
   "metadata": {},
   "outputs": [
    {
     "name": "stdout",
     "output_type": "stream",
     "text": [
      "Total tokesn in the corpus:  ['eos', 'the', 'arabian', 'knights', 'eos', 'these', 'are', 'the', 'fairy', 'tales', 'of', 'the', 'east', 'eos', 'the', 'stories', 'of', 'the', 'arabian', 'knights', 'are', 'translated', 'in', 'many', 'languages']\n",
      "Distinct Tokens in the corpus:  {'many', 'of', 'eos', 'these', 'in', 'the', 'stories', 'are', 'fairy', 'east', 'translated', 'tales', 'languages', 'arabian', 'knights'}\n"
     ]
    }
   ],
   "source": [
    "from nltk.tokenize import word_tokenize\n",
    "token = word_tokenize(corpus)\n",
    "print('Total tokesn in the corpus: ', token)\n",
    "print('Distinct Tokens in the corpus: ', set(token))\n"
   ]
  },
  {
   "cell_type": "markdown",
   "metadata": {},
   "source": [
    "## 3. Find out Frequencies"
   ]
  },
  {
   "cell_type": "code",
   "execution_count": 6,
   "metadata": {},
   "outputs": [
    {
     "name": "stdout",
     "output_type": "stream",
     "text": [
      "Freq of each tokens =  {'eos': 3, 'the': 5, 'arabian': 2, 'knights': 2, 'these': 1, 'are': 2, 'fairy': 1, 'tales': 1, 'of': 2, 'east': 1, 'stories': 1, 'translated': 1, 'in': 1, 'many': 1, 'languages': 1}\n"
     ]
    }
   ],
   "source": [
    "dct = {}\n",
    "for i in token:\n",
    "    dct[i] = 0\n",
    "for i in token:\n",
    "    dct[i] += 1\n",
    "print(\"Freq of each tokens = \", dct)"
   ]
  },
  {
   "cell_type": "markdown",
   "metadata": {},
   "source": [
    "## 4. Generate n-grams(bi-grams)/trigrams and freq."
   ]
  },
  {
   "cell_type": "code",
   "execution_count": 7,
   "metadata": {},
   "outputs": [],
   "source": [
    "def ngram(k):\n",
    "    l = []\n",
    "    for i in range(len(token)):\n",
    "        l.append(token[i:i+k])\n",
    "    l=l[:-1]\n",
    "\n",
    "    # Get Freq.\n",
    "    dct = {}\n",
    "    l = [\" \".join(i) for i in l]\n",
    "    for i in token:\n",
    "        dct[i] = 0\n",
    "    for i in token:\n",
    "        dct[i] += 1\n",
    "    return dct"
   ]
  },
  {
   "cell_type": "code",
   "execution_count": 8,
   "metadata": {},
   "outputs": [
    {
     "name": "stdout",
     "output_type": "stream",
     "text": [
      "{'eos': 3, 'the': 5, 'arabian': 2, 'knights': 2, 'these': 1, 'are': 2, 'fairy': 1, 'tales': 1, 'of': 2, 'east': 1, 'stories': 1, 'translated': 1, 'in': 1, 'many': 1, 'languages': 1}\n"
     ]
    }
   ],
   "source": [
    "print(ngram(2))"
   ]
  },
  {
   "cell_type": "code",
   "execution_count": null,
   "metadata": {},
   "outputs": [],
   "source": []
  }
 ],
 "metadata": {
  "kernelspec": {
   "display_name": ".venv",
   "language": "python",
   "name": "python3"
  },
  "language_info": {
   "codemirror_mode": {
    "name": "ipython",
    "version": 3
   },
   "file_extension": ".py",
   "mimetype": "text/x-python",
   "name": "python",
   "nbconvert_exporter": "python",
   "pygments_lexer": "ipython3",
   "version": "3.10.12"
  },
  "orig_nbformat": 4
 },
 "nbformat": 4,
 "nbformat_minor": 2
}
