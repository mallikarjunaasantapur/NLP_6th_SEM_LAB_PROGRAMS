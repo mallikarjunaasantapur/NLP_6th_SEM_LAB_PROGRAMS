{
 "cells": [
  {
   "cell_type": "markdown",
   "metadata": {},
   "source": [
    "# Stop words operations on email dataset using Spacy, gensim and NLTK\n",
    "1. Display existing stop words in the default list\n",
    "2. Removing stop words from the default list\n",
    "3. Adding stop words to the default list\n",
    "4. Apply stop word elemination to the email Dataset"
   ]
  },
  {
   "cell_type": "code",
   "execution_count": 1,
   "metadata": {},
   "outputs": [
    {
     "name": "stdout",
     "output_type": "stream",
     "text": [
      "                                                text spam\n",
      "0  Subject: naturally it's your irresistible your...    1\n",
      "1  Subject: the stock trading gunslinger  fanny i...    1\n",
      "2  Subject: unbelievable new homes made easy  im ...    1\n",
      "3  Subject: 4 color printing special  request add...    1\n",
      "4  Subject: do not have money , get software cds ...    1\n",
      "5  Subject: great nnews  hello , welcome to medzo...    1\n",
      "6  Subject: here ' s a hot play in motion  homela...    1\n",
      "7  Subject: save your money buy getting this thin...    1\n",
      "8  Subject: undeliverable : home based business f...    1\n",
      "9  Subject: save your money buy getting this thin...    1\n"
     ]
    }
   ],
   "source": [
    "import pandas as pd\n",
    "data = pd.read_csv('../Rizzources/emails.csv', usecols=['text', 'spam'])\n",
    "print(data.head(10))"
   ]
  },
  {
   "cell_type": "markdown",
   "metadata": {},
   "source": [
    "## Using Spacy"
   ]
  },
  {
   "cell_type": "markdown",
   "metadata": {},
   "source": [
    "### 1. Display existing Stopwords"
   ]
  },
  {
   "cell_type": "code",
   "execution_count": 2,
   "metadata": {},
   "outputs": [
    {
     "name": "stdout",
     "output_type": "stream",
     "text": [
      "{'yourselves', 'becoming', 'really', 'else', '‘m', 'besides', '‘d', 'becomes', 'take', '’s', 'so', 'more', 'namely', 'by', 'six', 'since', 'about', 'no', 'much', 'using', 'but', 'us', 'hence', 'be', 'various', 'what', 'call', 'thereby', 'ours', 'after', 'whenever', \"n't\", 'an', 'latter', 'perhaps', '‘re', 'might', 'because', 'four', 'anything', 'is', 'anyway', 'i', 'our', 'across', 'wherever', 'do', 'their', 'hundred', 'below', 'say', 'such', 'yours', 'just', 'there', 'she', 'whom', 'somehow', 'them', 'are', 'wherein', 'name', 'already', 'empty', 'become', 'myself', 'hereby', 'two', 'without', 'could', 'whither', 'this', 'up', 'herein', 'hereupon', 'most', 'these', 'whereby', '’ve', 'whereafter', '‘s', 'his', 'at', 'fifteen', 'while', 'toward', 'doing', 'themselves', 'eight', 'further', 'third', 'throughout', 'last', 'even', 'was', \"'m\", 'it', 'who', 'would', 'to', 'least', 'into', 'again', 'then', 'has', 'out', 'her', 'were', 'side', 'therefore', 'itself', 'those', 'some', 'still', 'whose', 'the', 'my', 'bottom', 'make', 'go', 'part', 'therein', 'sixty', 'whole', 'during', 'former', 'of', 'and', 'should', 'twenty', 'afterwards', 'beyond', 'none', 'eleven', 'moreover', 'give', 'twelve', 'on', '‘ve', 'keep', 'unless', 'see', 'too', 'became', 'although', 'whatever', 'forty', 'top', 'n‘t', 'though', 'or', 'back', 'everything', 'its', 'sometime', 'yourself', 'hereafter', 'all', 'you', 'beside', 'get', 'seeming', 'himself', 'anyone', 'along', 'from', 'through', 'whereas', 'will', 'not', 'now', 'always', 'seemed', 'otherwise', 'indeed', \"'s\", 'alone', 'everyone', 'that', 'whereupon', 'been', 'anyhow', 'via', '’re', 'beforehand', 'thereafter', 'nevertheless', 'ourselves', 'move', 'fifty', 'several', 'whence', 'towards', 'between', 'seems', \"'d\", 'your', 'any', 'before', 'nobody', 'except', 'over', 'whether', 'thru', 'behind', 'each', 'meanwhile', 'both', 'did', 'made', 'herself', 'anywhere', 'hers', 'yet', 'however', 'ten', 'used', 'quite', 'others', 'only', 'nothing', 'first', 'me', 'show', 'a', 'often', 'does', 'when', 'he', 'onto', 'done', 'sometimes', 'ca', \"'re\", 'every', 'under', '’m', 'around', 'where', 'within', 'which', 'cannot', 'may', 'above', 'being', 'for', 'thence', 'never', 'almost', 'amongst', 'am', 'next', 're', 'full', 'they', 'three', 'with', 'nowhere', 'n’t', 'off', 'latterly', 'mine', 'neither', \"'ve\", 'in', 'less', 'front', 'we', 'regarding', 'had', 'among', 'other', 'either', 'together', 'until', 'upon', 'nine', 'amount', 'formerly', 'thereupon', 'him', 'elsewhere', 'how', 'thus', 'something', 'own', 'also', 'than', 'here', 'please', 'serious', 'have', 'everywhere', 'one', 'well', 'per', 'can', 'very', 'few', 'must', 'five', 'someone', 'down', \"'ll\", 'same', 'if', 'noone', 'many', 'once', 'mostly', 'why', 'enough', 'as', 'somewhere', '‘ll', 'against', 'another', 'rather', 'ever', 'whoever', 'nor', 'due', 'put', '’d', '’ll', 'seem'}\n"
     ]
    }
   ],
   "source": [
    "import spacy\n",
    "nlp = spacy.load('en_core_web_sm')\n",
    "\n",
    "all_stopwords = nlp.Defaults.stop_words\n",
    "print(all_stopwords)"
   ]
  },
  {
   "cell_type": "markdown",
   "metadata": {},
   "source": [
    "### 2. Removing Stopwords"
   ]
  },
  {
   "cell_type": "code",
   "execution_count": 3,
   "metadata": {},
   "outputs": [
    {
     "name": "stdout",
     "output_type": "stream",
     "text": [
      "{'yourselves', 'becoming', 'really', 'else', '‘m', 'besides', '‘d', 'becomes', 'take', '’s', 'so', 'more', 'namely', 'by', 'six', 'since', 'about', 'no', 'much', 'using', 'but', 'us', 'hence', 'be', 'various', 'what', 'call', 'thereby', 'ours', 'after', 'whenever', \"n't\", 'an', 'latter', 'perhaps', '‘re', 'might', 'because', 'four', 'anything', 'is', 'anyway', 'i', 'our', 'across', 'wherever', 'do', 'their', 'hundred', 'below', 'say', 'such', 'yours', 'just', 'there', 'she', 'whom', 'somehow', 'them', 'are', 'wherein', 'name', 'already', 'empty', 'become', 'myself', 'hereby', 'two', 'without', 'could', 'whither', 'this', 'up', 'herein', 'hereupon', 'most', 'these', 'whereby', '’ve', 'whereafter', '‘s', 'his', 'at', 'fifteen', 'while', 'toward', 'doing', 'themselves', 'eight', 'further', 'third', 'throughout', 'last', 'even', 'was', \"'m\", 'it', 'who', 'would', 'to', 'least', 'into', 'again', 'then', 'has', 'out', 'her', 'were', 'side', 'therefore', 'itself', 'those', 'some', 'still', 'whose', 'the', 'my', 'bottom', 'make', 'go', 'part', 'therein', 'sixty', 'whole', 'during', 'former', 'of', 'and', 'should', 'twenty', 'afterwards', 'beyond', 'none', 'eleven', 'moreover', 'give', 'twelve', 'on', '‘ve', 'keep', 'unless', 'see', 'too', 'became', 'although', 'whatever', 'forty', 'top', 'n‘t', 'though', 'or', 'back', 'everything', 'its', 'sometime', 'yourself', 'hereafter', 'all', 'you', 'beside', 'get', 'seeming', 'himself', 'anyone', 'along', 'from', 'through', 'whereas', 'not', 'now', 'always', 'seemed', 'otherwise', 'indeed', \"'s\", 'alone', 'everyone', 'that', 'whereupon', 'been', 'anyhow', 'via', '’re', 'beforehand', 'thereafter', 'nevertheless', 'ourselves', 'move', 'fifty', 'several', 'whence', 'towards', 'between', 'seems', \"'d\", 'your', 'any', 'before', 'nobody', 'except', 'over', 'whether', 'thru', 'behind', 'each', 'meanwhile', 'both', 'did', 'made', 'herself', 'anywhere', 'hers', 'yet', 'however', 'ten', 'used', 'quite', 'others', 'only', 'nothing', 'first', 'me', 'show', 'a', 'often', 'does', 'when', 'he', 'onto', 'done', 'sometimes', 'ca', \"'re\", 'every', 'under', '’m', 'around', 'where', 'within', 'which', 'cannot', 'may', 'above', 'being', 'for', 'thence', 'never', 'almost', 'amongst', 'am', 'next', 're', 'full', 'they', 'three', 'with', 'nowhere', 'n’t', 'off', 'latterly', 'mine', 'neither', \"'ve\", 'in', 'less', 'front', 'we', 'regarding', 'had', 'among', 'other', 'either', 'together', 'until', 'upon', 'nine', 'amount', 'formerly', 'thereupon', 'him', 'elsewhere', 'how', 'thus', 'something', 'own', 'also', 'than', 'here', 'please', 'serious', 'have', 'everywhere', 'one', 'well', 'per', 'can', 'very', 'few', 'must', 'five', 'someone', 'down', \"'ll\", 'same', 'if', 'noone', 'many', 'once', 'mostly', 'why', 'enough', 'as', 'somewhere', '‘ll', 'against', 'another', 'rather', 'ever', 'whoever', 'nor', 'due', 'put', '’d', '’ll', 'seem'}\n"
     ]
    }
   ],
   "source": [
    "all_stopwords.remove('will')\n",
    "print(all_stopwords)"
   ]
  },
  {
   "cell_type": "markdown",
   "metadata": {},
   "source": [
    "### 3. Adding Stopwords"
   ]
  },
  {
   "cell_type": "code",
   "execution_count": 4,
   "metadata": {},
   "outputs": [
    {
     "name": "stdout",
     "output_type": "stream",
     "text": [
      "{'yourselves', 'becoming', 'really', 'else', '‘m', 'besides', '‘d', 'becomes', 'take', '’s', 'so', 'more', 'namely', 'by', 'six', 'since', 'about', 'no', 'much', 'using', 'but', 'us', 'hence', 'be', 'various', 'what', 'call', 'thereby', 'ours', 'after', 'whenever', \"n't\", 'an', 'latter', 'perhaps', '‘re', 'might', 'because', 'four', 'anything', 'is', 'anyway', 'i', 'our', 'across', 'wherever', 'do', 'their', 'hundred', 'below', 'say', 'such', 'yours', 'just', 'there', 'she', 'whom', 'somehow', 'them', 'are', 'wherein', 'name', 'already', 'empty', 'become', 'myself', 'hereby', 'two', 'without', 'could', 'whither', 'this', 'up', 'herein', 'hereupon', 'most', 'these', 'whereby', '’ve', 'whereafter', '‘s', 'his', 'at', 'fifteen', 'while', 'toward', 'doing', 'themselves', 'eight', 'further', 'third', 'throughout', 'last', 'even', 'was', \"'m\", 'it', 'who', 'would', 'to', 'least', 'into', 'again', 'then', 'has', 'out', 'her', 'were', 'side', 'therefore', 'itself', 'those', 'some', 'still', 'whose', 'the', 'my', 'bottom', 'make', 'go', 'part', 'therein', 'sixty', 'whole', 'during', 'former', 'of', 'and', 'should', 'twenty', 'afterwards', 'beyond', 'none', 'eleven', 'moreover', 'give', 'twelve', 'on', '‘ve', 'keep', 'unless', 'see', 'too', 'became', 'although', 'whatever', 'forty', 'top', 'n‘t', 'though', 'or', 'back', 'everything', 'its', 'naturally', 'sometime', 'yourself', 'hereafter', 'all', 'you', 'company', 'beside', 'get', 'seeming', 'himself', 'anyone', 'along', 'from', 'through', 'whereas', 'not', 'now', 'always', 'seemed', 'otherwise', 'indeed', \"'s\", 'alone', 'everyone', 'that', 'whereupon', 'been', 'anyhow', 'via', '’re', 'beforehand', 'thereafter', 'nevertheless', 'ourselves', 'move', 'fifty', 'several', 'whence', 'towards', 'between', 'seems', \"'d\", 'your', 'any', 'before', 'nobody', 'except', 'over', 'whether', 'thru', 'behind', 'each', 'meanwhile', 'both', 'did', 'made', 'herself', 'anywhere', 'hers', 'yet', 'however', 'ten', 'used', 'quite', 'others', 'only', 'nothing', 'first', 'me', 'show', 'a', 'often', 'does', 'when', 'he', 'onto', 'done', 'sometimes', 'ca', \"'re\", 'every', 'under', '’m', 'around', 'where', 'within', 'which', 'cannot', 'may', 'above', 'being', 'for', 'thence', 'never', 'almost', 'amongst', 'am', 'next', 're', 'full', 'they', 'three', 'with', 'nowhere', 'n’t', 'off', 'latterly', 'mine', 'neither', \"'ve\", 'in', 'less', 'front', 'we', 'regarding', 'had', 'among', 'other', 'either', 'together', 'until', 'upon', 'nine', 'amount', 'formerly', 'thereupon', 'him', 'elsewhere', 'how', 'thus', 'something', 'own', 'also', 'than', 'here', 'please', 'serious', 'have', 'everywhere', 'one', 'well', 'per', 'can', 'very', 'few', 'must', 'five', 'someone', 'down', \"'ll\", 'same', 'if', 'noone', 'many', 'once', 'mostly', 'why', 'enough', 'as', 'somewhere', '‘ll', 'against', 'another', 'rather', 'ever', 'whoever', 'nor', 'due', 'put', '’d', '’ll', 'seem'}\n"
     ]
    }
   ],
   "source": [
    "all_stopwords.add('naturally')\n",
    "all_stopwords.add('company')\n",
    "print(all_stopwords)"
   ]
  },
  {
   "cell_type": "markdown",
   "metadata": {},
   "source": [
    "### 4. Stopword Elimination"
   ]
  },
  {
   "cell_type": "code",
   "execution_count": 5,
   "metadata": {},
   "outputs": [
    {
     "data": {
      "text/plain": [
       "\"Subject: naturally it's your irresistible your corporate identity  lt is really hard to recollect a company : the  market is full of suqgestions and the information isoverwhelminq ; but a good  catchy logo , stylish statlonery and outstanding website  will make the task much easier .  we don't promise that havinq ordered a iogo your  company will automaticaily become a world ieader : it isguite ciear that  without good products , effective business organization and practicable aim it  will be hotat nowadays market ; but we do promise that your marketing efforts  will become much more effective . here is the list of clear  benefits : creativeness : hand - made , original logos , specially done  to reflect your distinctive company image . convenience : logo and stationery  are provided in all formats ; easy - to - use content management system letsyou  change your website content and even its structure . promptness : you'll see logo drafts within three business days . affordability : your  marketing break - through shouldn't make gaps in your budget . 100 % satisfaction  guaranteed : we provide unlimited amount of changes with no extra fees for you to  be surethat you will love the result of this collaboration . have a look at our  portfolio _ _ _ _ _ _ _ _ _ _ _ _ _ _ _ _ _ _ _ _ _ _ _ _ _ _ _ _ _ _ _ _ _ _ _ _ _ _ _ _ _ _ _ _ _ _ _ _ _ _ _ _ not interested . . . _ _ _ _ _ _ _ _ _ _ _ _ _ _ _ _ _ _ _ _ _ _ _ _ _ _ _ _ _ _ _ _ _ _ _ _ _ _ _ _ _ _ _ _ _ _ _ _ _ _ _ _\""
      ]
     },
     "execution_count": 5,
     "metadata": {},
     "output_type": "execute_result"
    }
   ],
   "source": [
    "Text=data['text'][0]\n",
    "Text"
   ]
  },
  {
   "cell_type": "code",
   "execution_count": 6,
   "metadata": {},
   "outputs": [
    {
     "name": "stdout",
     "output_type": "stream",
     "text": [
      "Subject : irresistible corporate identity   lt hard recollect :   market suqgestions information isoverwhelminq ; good   catchy logo , stylish statlonery outstanding website   will task easier .   promise havinq ordered iogo   will automaticaily world ieader : isguite ciear   good products , effective business organization practicable aim   will hotat nowadays market ; promise marketing efforts   will effective . list clear   benefits : creativeness : hand - , original logos , specially   reflect distinctive image . convenience : logo stationery   provided formats ; easy - - use content management system letsyou   change website content structure . promptness : logo drafts business days . affordability :   marketing break - gaps budget . 100 % satisfaction   guaranteed : provide unlimited changes extra fees   surethat will love result collaboration . look   portfolio _ _ _ _ _ _ _ _ _ _ _ _ _ _ _ _ _ _ _ _ _ _ _ _ _ _ _ _ _ _ _ _ _ _ _ _ _ _ _ _ _ _ _ _ _ _ _ _ _ _ _ _ interested . . . _ _ _ _ _ _ _ _ _ _ _ _ _ _ _ _ _ _ _ _ _ _ _ _ _ _ _ _ _ _ _ _ _ _ _ _ _ _ _ _ _ _ _ _ _ _ _ _ _ _ _ _\n"
     ]
    }
   ],
   "source": [
    "doc=nlp(Text)\n",
    "text2 = [i.text for i in doc if i.text not in all_stopwords]\n",
    "print(' '.join(text2))"
   ]
  },
  {
   "cell_type": "markdown",
   "metadata": {},
   "source": [
    "## Using Gensim"
   ]
  },
  {
   "cell_type": "code",
   "execution_count": 8,
   "metadata": {},
   "outputs": [],
   "source": [
    "import gensim"
   ]
  },
  {
   "cell_type": "code",
   "execution_count": 9,
   "metadata": {},
   "outputs": [],
   "source": [
    "all_stopwords=gensim.parsing.preprocessing.STOPWORDS"
   ]
  },
  {
   "cell_type": "markdown",
   "metadata": {},
   "source": [
    "### 1. Show all stopwords"
   ]
  },
  {
   "cell_type": "code",
   "execution_count": 10,
   "metadata": {},
   "outputs": [
    {
     "name": "stdout",
     "output_type": "stream",
     "text": [
      "frozenset({'yourselves', 'becoming', 'really', 'co', 'else', 'besides', 'becomes', 'take', 'so', 'computer', 'more', 'namely', 'by', 'six', 'since', 'about', 'no', 'using', 'much', 'but', 'us', 'hence', 'be', 'various', 'what', 'amoungst', 'call', 'thereby', 'ours', 'after', 'whenever', 'an', 'latter', 'perhaps', 'might', 'because', 'ie', 'four', 'anything', 'is', 'anyway', 'eg', 'our', 'across', 'i', 'wherever', 'do', 'their', 'hundred', 'below', 'say', 'such', 'yours', 'just', 'there', 'she', 'whom', 'system', 'somehow', 'them', 'couldnt', 'are', 'wherein', 'name', 'already', 'empty', 'become', 'myself', 'hereby', 'two', 'without', 'could', 'whither', 'this', 'up', 'herein', 'describe', 'hereupon', 'most', 'these', 'whereby', 'cant', 'whereafter', 'his', 'at', 'fifteen', 'while', 'toward', 'doing', 'didn', 'themselves', 'eight', 'further', 'third', 'throughout', 'last', 'even', 'was', 'don', 'it', 'etc', 'who', 'would', 'to', 'least', 'into', 'fill', 'again', 'then', 'has', 'out', 'her', 'were', 'detail', 'side', 'therefore', 'itself', 'those', 'some', 'whose', 'still', 'the', 'my', 'bottom', 'make', 'go', 'therein', 'part', 'mill', 'sixty', 'whole', 'during', 'former', 'of', 'should', 'and', 'twenty', 'afterwards', 'beyond', 'none', 'eleven', 'moreover', 'give', 'twelve', 'on', 'keep', 'unless', 'see', 'thick', 'too', 'became', 'although', 'whatever', 'forty', 'top', 'though', 'or', 'back', 'everything', 'its', 'sometime', 'yourself', 'hereafter', 'kg', 'all', 'you', 'beside', 'get', 'seeming', 'himself', 'anyone', 'along', 'from', 'through', 'find', 'whereas', 'will', 'not', 'now', 'always', 'seemed', 'otherwise', 'indeed', 'cry', 'bill', 'alone', 'everyone', 'that', 'whereupon', 'been', 'anyhow', 'via', 'thereafter', 'beforehand', 'nevertheless', 'ourselves', 'move', 'fifty', 'several', 'whence', 'towards', 'between', 'seems', 'your', 'any', 'un', 'before', 'nobody', 'except', 'con', 'over', 'whether', 'thru', 'behind', 'each', 'inc', 'meanwhile', 'both', 'did', 'made', 'herself', 'anywhere', 'hers', 'yet', 'however', 'ten', 'used', 'quite', 'others', 'only', 'nothing', 'ltd', 'first', 'me', 'show', 'a', 'often', 'does', 'when', 'he', 'onto', 'fire', 'done', 'sometimes', 'doesn', 'every', 'under', 'around', 'where', 'within', 'interest', 'which', 'cannot', 'may', 'above', 'being', 'for', 'thence', 'never', 'almost', 'amongst', 'am', 're', 'next', 'full', 'they', 'three', 'with', 'nowhere', 'off', 'latterly', 'mine', 'neither', 'in', 'less', 'front', 'we', 'regarding', 'had', 'among', 'other', 'either', 'together', 'de', 'until', 'upon', 'nine', 'amount', 'found', 'formerly', 'hasnt', 'thereupon', 'him', 'elsewhere', 'how', 'thus', 'something', 'own', 'also', 'than', 'here', 'please', 'serious', 'have', 'km', 'everywhere', 'sincere', 'one', 'well', 'per', 'can', 'very', 'few', 'must', 'five', 'someone', 'down', 'same', 'if', 'noone', 'many', 'once', 'mostly', 'why', 'thin', 'enough', 'somewhere', 'as', 'against', 'another', 'rather', 'ever', 'whoever', 'nor', 'due', 'put', 'seem'})\n"
     ]
    }
   ],
   "source": [
    "print(all_stopwords)"
   ]
  },
  {
   "cell_type": "markdown",
   "metadata": {},
   "source": [
    "### 2. Adding Stopwords"
   ]
  },
  {
   "cell_type": "code",
   "execution_count": 11,
   "metadata": {},
   "outputs": [
    {
     "name": "stdout",
     "output_type": "stream",
     "text": [
      "frozenset({'along', 'from', 'through', 'yourselves', 'becoming', 'really', 'find', 'whereas', 'co', 'else', 'besides', 'becomes', 'take', 'will', 'so', 'not', 'computer', 'more', 'now', 'always', 'seemed', 'otherwise', 'indeed', 'namely', 'by', 'six', 'cry', 'since', 'about', 'no', 'bill', 'alone', 'using', 'much', 'everyone', 'but', 'us', 'hence', 'that', 'be', 'various', 'what', 'whereupon', 'amoungst', 'call', 'thereby', 'ours', 'been', 'after', 'anyhow', 'whenever', 'via', 'an', 'latter', 'perhaps', 'thereafter', 'beforehand', 'nevertheless', 'ourselves', 'might', 'move', 'fifty', 'several', 'whence', 'because', 'towards', 'ie', 'four', 'between', 'anything', 'seems', 'is', 'anyway', 'your', 'eg', 'our', 'across', 'i', 'any', 'wherever', 'un', 'before', 'nobody', 'do', 'except', 'con', 'over', 'their', 'whether', 'thru', 'behind', 'each', 'inc', 'hundred', 'meanwhile', 'below', 'both', 'say', 'such', 'yours', 'just', 'did', 'made', 'there', 'herself', 'she', 'whom', 'anywhere', 'system', 'hers', 'somehow', 'them', 'yet', 'couldnt', 'however', 'are', 'ten', 'used', 'wherein', 'name', 'already', 'empty', 'quite', 'become', 'others', 'myself', 'hereby', 'two', 'without', 'only', 'nothing', 'could', 'ltd', 'whither', 'this', 'first', 'up', 'herein', 'describe', 'me', 'show', 'a', 'often', 'hereupon', 'most', 'these', 'does', 'whereby', 'when', 'he', 'onto', 'fire', 'done', 'cant', 'sometimes', 'whereafter', 'doesn', 'his', 'at', 'fifteen', 'while', 'toward', 'every', 'under', 'doing', 'around', 'where', 'within', 'didn', 'themselves', 'interest', 'which', 'eight', 'further', 'third', 'cannot', 'throughout', 'last', 'even', 'was', 'don', 'may', 'it', 'above', 'etc', 'who', 'being', 'for', 'would', 'thence', 'to', 'never', 'least', 'almost', 'amongst', 'into', 'fill', 'again', 'am', 'then', 're', 'next', 'has', 'full', 'out', 'they', 'three', 'her', 'were', 'with', 'nowhere', 'off', 'latterly', 'mine', 'neither', 'in', 'less', 'detail', 'front', 'side', 'therefore', 'we', 'regarding', 'had', 'among', 'other', 'either', 'together', 'de', 'itself', 'until', 'upon', 'nine', 'amount', 'found', 'formerly', 'hasnt', 'thereupon', 'him', 'those', 'some', 'elsewhere', 'whose', 'still', 'how', 'thus', 'something', 'the', 'own', 'also', 'than', 'my', 'here', 'bottom', 'make', 'go', 'therein', 'part', 'please', 'mill', 'serious', 'have', 'sixty', 'whole', 'during', 'former', 'of', 'km', 'everywhere', 'sincere', 'one', 'should', 'and', 'well', 'twenty', 'per', 'can', 'afterwards', 'beyond', 'very', 'few', 'none', 'must', 'eleven', 'five', 'someone', 'moreover', 'down', 'give', 'twelve', 'on', 'same', 'if', 'noone', 'keep', 'many', 'once', 'unless', 'see', 'mostly', 'thick', 'why', 'too', 'became', 'although', 'whatever', 'thin', 'forty', 'top', 'though', 'or', 'back', 'everything', 'its', 'enough', 'naturally', 'sometime', 'somewhere', 'as', 'yourself', 'against', 'hereafter', 'kg', 'all', 'you', 'another', 'rather', 'ever', 'company', 'beside', 'get', 'seeming', 'himself', 'whoever', 'nor', 'anyone', 'due', 'put', 'seem'})\n"
     ]
    }
   ],
   "source": [
    "all_stopwords_gensim=all_stopwords.union(set(['naturally','company']))\n",
    "print(all_stopwords_gensim)"
   ]
  },
  {
   "cell_type": "markdown",
   "metadata": {},
   "source": [
    "### 3. Removing Stopwords"
   ]
  },
  {
   "cell_type": "code",
   "execution_count": 13,
   "metadata": {},
   "outputs": [
    {
     "name": "stdout",
     "output_type": "stream",
     "text": [
      "frozenset({'along', 'from', 'through', 'yourselves', 'becoming', 'really', 'find', 'whereas', 'co', 'else', 'besides', 'becomes', 'take', 'will', 'so', 'not', 'computer', 'more', 'now', 'always', 'seemed', 'otherwise', 'indeed', 'namely', 'by', 'six', 'cry', 'since', 'about', 'no', 'bill', 'alone', 'using', 'much', 'everyone', 'but', 'us', 'hence', 'that', 'be', 'various', 'what', 'whereupon', 'amoungst', 'call', 'thereby', 'ours', 'been', 'after', 'anyhow', 'whenever', 'via', 'an', 'latter', 'perhaps', 'thereafter', 'beforehand', 'nevertheless', 'ourselves', 'might', 'move', 'fifty', 'several', 'whence', 'because', 'towards', 'ie', 'four', 'between', 'anything', 'seems', 'is', 'anyway', 'your', 'eg', 'our', 'across', 'i', 'any', 'wherever', 'un', 'before', 'nobody', 'do', 'except', 'con', 'over', 'their', 'whether', 'thru', 'behind', 'each', 'inc', 'hundred', 'meanwhile', 'below', 'both', 'say', 'such', 'yours', 'just', 'did', 'made', 'there', 'herself', 'she', 'whom', 'anywhere', 'system', 'hers', 'somehow', 'them', 'yet', 'couldnt', 'however', 'are', 'ten', 'used', 'wherein', 'name', 'already', 'empty', 'quite', 'become', 'others', 'myself', 'hereby', 'two', 'without', 'only', 'nothing', 'could', 'ltd', 'whither', 'this', 'first', 'up', 'herein', 'describe', 'me', 'show', 'often', 'hereupon', 'most', 'these', 'does', 'whereby', 'when', 'he', 'onto', 'fire', 'done', 'cant', 'sometimes', 'whereafter', 'doesn', 'his', 'at', 'fifteen', 'while', 'toward', 'every', 'under', 'doing', 'around', 'where', 'within', 'didn', 'themselves', 'interest', 'which', 'eight', 'further', 'third', 'cannot', 'throughout', 'last', 'even', 'was', 'don', 'may', 'it', 'above', 'etc', 'who', 'being', 'for', 'would', 'thence', 'to', 'never', 'least', 'almost', 'amongst', 'into', 'fill', 'again', 'am', 'then', 're', 'next', 'has', 'full', 'out', 'they', 'three', 'her', 'were', 'with', 'nowhere', 'off', 'latterly', 'mine', 'neither', 'in', 'less', 'detail', 'front', 'side', 'therefore', 'we', 'regarding', 'had', 'among', 'other', 'either', 'together', 'de', 'itself', 'until', 'upon', 'nine', 'amount', 'found', 'formerly', 'hasnt', 'thereupon', 'him', 'those', 'some', 'elsewhere', 'whose', 'still', 'how', 'thus', 'something', 'the', 'own', 'also', 'than', 'my', 'here', 'bottom', 'make', 'go', 'therein', 'part', 'please', 'mill', 'serious', 'have', 'sixty', 'whole', 'during', 'former', 'of', 'km', 'everywhere', 'sincere', 'one', 'should', 'and', 'well', 'twenty', 'per', 'can', 'afterwards', 'beyond', 'very', 'few', 'none', 'must', 'eleven', 'five', 'someone', 'moreover', 'down', 'give', 'twelve', 'on', 'same', 'if', 'noone', 'keep', 'many', 'once', 'unless', 'see', 'mostly', 'thick', 'why', 'too', 'became', 'although', 'whatever', 'thin', 'forty', 'top', 'though', 'or', 'back', 'everything', 'its', 'enough', 'naturally', 'sometime', 'somewhere', 'as', 'yourself', 'against', 'hereafter', 'kg', 'all', 'you', 'another', 'rather', 'ever', 'company', 'beside', 'get', 'seeming', 'himself', 'whoever', 'nor', 'anyone', 'due', 'put', 'seem'})\n"
     ]
    }
   ],
   "source": [
    "all_stopwords_gensim=all_stopwords_gensim.difference('really')\n",
    "print(all_stopwords_gensim)"
   ]
  },
  {
   "cell_type": "markdown",
   "metadata": {},
   "source": [
    "### 4. Apply to Email Dataset"
   ]
  },
  {
   "cell_type": "code",
   "execution_count": 14,
   "metadata": {},
   "outputs": [],
   "source": [
    "from gensim.utils import tokenize"
   ]
  },
  {
   "cell_type": "code",
   "execution_count": 15,
   "metadata": {},
   "outputs": [
    {
     "name": "stdout",
     "output_type": "stream",
     "text": [
      "['Subject', 's', 'irresistible', 'corporate', 'identity', 'lt', 'hard', 'recollect', 'a', 'market', 'suqgestions', 'information', 'isoverwhelminq', 'a', 'good', 'catchy', 'logo', 'stylish', 'statlonery', 'outstanding', 'website', 'task', 'easier', 't', 'promise', 'havinq', 'ordered', 'a', 'iogo', 'automaticaily', 'a', 'world', 'ieader', 'isguite', 'ciear', 'good', 'products', 'effective', 'business', 'organization', 'practicable', 'aim', 'hotat', 'nowadays', 'market', 'promise', 'marketing', 'efforts', 'effective', 'list', 'clear', 'benefits', 'creativeness', 'hand', 'original', 'logos', 'specially', 'reflect', 'distinctive', 'image', 'convenience', 'logo', 'stationery', 'provided', 'formats', 'easy', 'use', 'content', 'management', 'letsyou', 'change', 'website', 'content', 'structure', 'promptness', 'll', 'logo', 'drafts', 'business', 'days', 'affordability', 'marketing', 'break', 'shouldn', 't', 'gaps', 'budget', 'satisfaction', 'guaranteed', 'provide', 'unlimited', 'changes', 'extra', 'fees', 'surethat', 'love', 'result', 'collaboration', 'a', 'look', 'portfolio', '_', '_', '_', '_', '_', '_', '_', '_', '_', '_', '_', '_', '_', '_', '_', '_', '_', '_', '_', '_', '_', '_', '_', '_', '_', '_', '_', '_', '_', '_', '_', '_', '_', '_', '_', '_', '_', '_', '_', '_', '_', '_', '_', '_', '_', '_', '_', '_', '_', '_', '_', '_', 'interested', '_', '_', '_', '_', '_', '_', '_', '_', '_', '_', '_', '_', '_', '_', '_', '_', '_', '_', '_', '_', '_', '_', '_', '_', '_', '_', '_', '_', '_', '_', '_', '_', '_', '_', '_', '_', '_', '_', '_', '_', '_', '_', '_', '_', '_', '_', '_', '_', '_', '_', '_', '_']\n"
     ]
    }
   ],
   "source": [
    "tokens=list(tokenize(Text))\n",
    "tokens_without_sw = [word for word in tokens if not word in all_stopwords_gensim]\n",
    "print(tokens_without_sw)"
   ]
  },
  {
   "cell_type": "markdown",
   "metadata": {},
   "source": [
    "## Using NLTK"
   ]
  },
  {
   "cell_type": "code",
   "execution_count": 16,
   "metadata": {},
   "outputs": [],
   "source": [
    "import nltk\n",
    "from nltk.corpus import stopwords\n",
    "from nltk.tokenize import word_tokenize"
   ]
  },
  {
   "cell_type": "markdown",
   "metadata": {},
   "source": [
    "### 1. Showing All"
   ]
  },
  {
   "cell_type": "code",
   "execution_count": 18,
   "metadata": {},
   "outputs": [
    {
     "name": "stdout",
     "output_type": "stream",
     "text": [
      "{'further', 'weren', 'from', 'through', 'yourselves', 'hasn', 'shouldn', 'was', 'don', 'it', 'above', 'will', 'who', \"you'll\", 'so', 'not', 'y', 'more', 'being', 'now', 'for', \"she's\", 'to', 'into', 'am', 'by', 'again', \"haven't\", 'then', \"should've\", 're', 'about', 'no', 'has', \"wouldn't\", 'out', 'they', 'her', \"shan't\", 'were', 'but', 'with', 'hadn', 'off', 'that', 'be', 'what', 'in', 'shan', 'mustn', 'ours', 'been', 'after', 'we', \"mustn't\", \"it's\", 'an', 'had', \"you've\", 's', 'other', 'ourselves', 'itself', 'haven', \"you're\", 'until', 'because', \"wasn't\", 'between', 'd', 'is', \"won't\", 'ain', 'him', 'those', 'some', 'your', \"hasn't\", 'i', 'our', 'any', 'how', 've', \"that'll\", 'the', 'before', 'own', 'ma', 'll', 'do', 'than', 'my', 'their', 'over', 'here', 'having', 't', 'have', 'each', 'during', 'of', 'below', 'couldn', 'both', 'yours', 'such', 'and', 'should', 'o', 'did', 'can', 'just', \"didn't\", 'there', 'isn', 'very', 'herself', 'few', 'she', 'whom', 'aren', 'needn', \"weren't\", \"doesn't\", 'hers', \"you'd\", 'them', 'theirs', 'down', 'are', 'm', 'same', 'on', 'if', 'once', \"shouldn't\", 'myself', \"isn't\", 'wouldn', 'why', 'only', 'too', 'wasn', 'this', 'up', 'or', 'me', \"couldn't\", 'a', 'its', 'most', 'as', 'these', 'does', 'yourself', 'against', 'when', 'won', 'he', 'all', 'you', \"needn't\", 'mightn', 'doesn', \"don't\", 'his', 'himself', 'at', 'nor', 'while', \"hadn't\", 'under', \"mightn't\", 'doing', 'where', 'didn', 'themselves', \"aren't\", 'which'}\n"
     ]
    }
   ],
   "source": [
    "stop_words=set(stopwords.words('english'))\n",
    "print(stop_words)"
   ]
  },
  {
   "cell_type": "markdown",
   "metadata": {},
   "source": [
    "### 2. Remove Stopwords"
   ]
  },
  {
   "cell_type": "code",
   "execution_count": 19,
   "metadata": {},
   "outputs": [
    {
     "name": "stdout",
     "output_type": "stream",
     "text": [
      "{'further', 'weren', 'from', 'through', 'yourselves', 'hasn', 'shouldn', 'was', 'don', 'it', 'above', 'will', 'who', \"you'll\", 'so', 'not', 'y', 'more', 'being', 'now', 'for', \"she's\", 'to', 'into', 'am', 'by', 'again', \"haven't\", 'then', \"should've\", 're', 'about', 'no', 'has', \"wouldn't\", 'out', 'they', 'her', \"shan't\", 'were', 'but', 'with', 'hadn', 'off', 'that', 'be', 'what', 'in', 'shan', 'mustn', 'ours', 'been', 'after', 'we', \"mustn't\", \"it's\", 'an', 'had', \"you've\", 's', 'other', 'ourselves', 'itself', 'haven', \"you're\", 'until', 'because', \"wasn't\", 'between', 'd', 'is', \"won't\", 'ain', 'him', 'those', 'some', 'your', \"hasn't\", 'i', 'our', 'any', 'how', 've', \"that'll\", 'the', 'before', 'own', 'ma', 'll', 'do', 'than', 'my', 'their', 'over', 'here', 'having', 't', 'have', 'each', 'during', 'of', 'below', 'couldn', 'both', 'yours', 'such', 'and', 'should', 'o', 'did', 'can', 'just', \"didn't\", 'there', 'isn', 'very', 'herself', 'few', 'she', 'whom', 'aren', 'needn', \"weren't\", \"doesn't\", 'hers', \"you'd\", 'them', 'theirs', 'down', 'are', 'm', 'same', 'on', 'if', 'once', \"shouldn't\", 'myself', \"isn't\", 'wouldn', 'why', 'only', 'too', 'wasn', 'this', 'up', 'or', 'me', \"couldn't\", 'a', 'its', 'most', 'these', 'does', 'yourself', 'against', 'when', 'won', 'he', 'all', 'you', \"needn't\", 'mightn', 'doesn', \"don't\", 'his', 'himself', 'at', 'nor', 'while', \"hadn't\", 'under', \"mightn't\", 'doing', 'where', 'didn', 'themselves', \"aren't\", 'which'}\n"
     ]
    }
   ],
   "source": [
    "stop_words.remove('as')\n",
    "print(stop_words)"
   ]
  },
  {
   "cell_type": "markdown",
   "metadata": {},
   "source": [
    "### 3. Adding stopwords"
   ]
  },
  {
   "cell_type": "code",
   "execution_count": 20,
   "metadata": {},
   "outputs": [
    {
     "name": "stdout",
     "output_type": "stream",
     "text": [
      "{'further', 'weren', 'from', 'through', 'yourselves', 'hasn', 'shouldn', 'was', 'don', 'it', 'above', 'will', 'who', \"you'll\", 'so', 'not', 'y', 'more', 'being', 'now', 'for', \"she's\", 'to', 'into', 'am', 'by', 'again', \"haven't\", 'then', \"should've\", 're', 'about', 'no', 'has', \"wouldn't\", 'out', 'they', 'her', \"shan't\", 'were', 'but', 'with', 'hadn', 'off', 'that', 'be', 'what', 'in', 'shan', 'mustn', 'ours', 'been', 'after', 'we', \"mustn't\", \"it's\", 'an', 'had', \"you've\", 's', 'other', 'ourselves', 'itself', 'haven', \"you're\", 'until', 'because', \"wasn't\", 'between', 'd', 'is', \"won't\", 'ain', 'him', 'those', 'some', 'your', \"hasn't\", 'i', 'our', 'any', 'how', 've', \"that'll\", 'the', 'before', 'own', 'ma', 'll', 'do', 'than', 'my', 'their', 'over', 'here', 'having', 't', 'have', 'each', 'during', 'of', 'below', 'couldn', 'Subject:', 'both', 'yours', 'such', 'and', 'should', 'o', 'did', 'can', 'just', \"didn't\", 'there', 'isn', 'very', 'herself', 'few', 'she', 'whom', 'aren', 'needn', \"weren't\", \"doesn't\", 'hers', \"you'd\", 'them', 'theirs', 'down', 'are', 'm', 'same', 'on', 'if', 'once', \"shouldn't\", 'myself', \"isn't\", 'wouldn', 'why', 'only', 'too', 'wasn', 'this', 'up', 'or', 'me', \"couldn't\", 'a', 'its', 'most', 'these', 'does', 'yourself', 'against', 'when', 'won', 'he', 'all', 'you', \"needn't\", 'mightn', 'doesn', \"don't\", 'his', 'himself', 'at', 'nor', 'while', \"hadn't\", 'under', \"mightn't\", 'doing', 'where', 'didn', 'themselves', \"aren't\", 'which'}\n"
     ]
    }
   ],
   "source": [
    "stop_words.add('Subject:')\n",
    "print(stop_words)"
   ]
  },
  {
   "cell_type": "markdown",
   "metadata": {},
   "source": [
    "### 4. Apply to dataset"
   ]
  },
  {
   "cell_type": "code",
   "execution_count": 21,
   "metadata": {},
   "outputs": [
    {
     "data": {
      "text/plain": [
       "'Subject: 4 color printing special  request additional information now ! click here  click here for a printable version of our order form ( pdf format )  phone : ( 626 ) 338 - 8090 fax : ( 626 ) 338 - 8102 e - mail : ramsey @ goldengraphix . com  request additional information now ! click here  click here for a printable version of our order form ( pdf format )  golden graphix & printing 5110 azusa canyon rd . irwindale , ca 91706 this e - mail message is an advertisement and / or solicitation of games54 and Game5S4 . '"
      ]
     },
     "execution_count": 21,
     "metadata": {},
     "output_type": "execute_result"
    }
   ],
   "source": [
    "Text=data['text'][3]\n",
    "Text"
   ]
  },
  {
   "cell_type": "code",
   "execution_count": 22,
   "metadata": {},
   "outputs": [
    {
     "data": {
      "text/plain": [
       "'4 color printing special request additional information ! click click printable version order form ( pdf format ) phone : ( 626 ) 338 - 8090 fax : ( 626 ) 338 - 8102 e - mail : ramsey @ goldengraphix . com request additional information ! click click printable version order form ( pdf format ) golden graphix & printing 5110 azusa canyon rd . irwindale , ca 91706 e - mail message advertisement / solicitation games54 Game5S4 .'"
      ]
     },
     "execution_count": 22,
     "metadata": {},
     "output_type": "execute_result"
    }
   ],
   "source": [
    "def remove_stopwords(text):\n",
    "    return \" \".join([word for word in str(text).split() if word not in stop_words])\n",
    "data['text']= data['text'].apply(lambda x: remove_stopwords(x))\n",
    "data['text'][3]"
   ]
  },
  {
   "cell_type": "code",
   "execution_count": null,
   "metadata": {},
   "outputs": [],
   "source": []
  }
 ],
 "metadata": {
  "kernelspec": {
   "display_name": ".venv",
   "language": "python",
   "name": "python3"
  },
  "language_info": {
   "codemirror_mode": {
    "name": "ipython",
    "version": 3
   },
   "file_extension": ".py",
   "mimetype": "text/x-python",
   "name": "python",
   "nbconvert_exporter": "python",
   "pygments_lexer": "ipython3",
   "version": "3.10.13"
  },
  "orig_nbformat": 4
 },
 "nbformat": 4,
 "nbformat_minor": 2
}
