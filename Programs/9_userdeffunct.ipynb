{
 "cells": [
  {
   "cell_type": "markdown",
   "metadata": {},
   "source": [
    "## Using User Defined Function"
   ]
  },
  {
   "cell_type": "code",
   "execution_count": 9,
   "metadata": {},
   "outputs": [],
   "source": [
    "def minimum_edit_distance(str1, str2, m, n):\n",
    "    string_matrix = [[0 for i in range(n+1)] for i in range(m+1)]\n",
    "    for i in range(m+1):\n",
    "        for j in range(n+1):\n",
    "            if i==0:\n",
    "                string_matrix[i][j] = j\n",
    "            elif j==0:\n",
    "                string_matrix[0][1] = i\n",
    "            elif str1[i-1] == str2[j-1]:\n",
    "                string_matrix[i][j] = string_matrix[i-1][j-1]\n",
    "            \n",
    "            else:\n",
    "                string_matrix[i][j] = 1+min(string_matrix[i][j-1], string_matrix[i-1][j], string_matrix[i-1][j-1])\n",
    "    return string_matrix[m][n]"
   ]
  },
  {
   "cell_type": "code",
   "execution_count": 10,
   "metadata": {},
   "outputs": [
    {
     "name": "stdout",
     "output_type": "stream",
     "text": [
      "No. of Operations required:  1\n",
      "No. of Operations required:  2\n"
     ]
    }
   ],
   "source": [
    "if __name__ == '__main__':\n",
    "    str1 = 'Rats'\n",
    "    str2 = 'Cats'\n",
    "    \n",
    "    print('No. of Operations required: ', minimum_edit_distance(str1, str2, len(str1), len(str2)))\n",
    "    \n",
    "    str3 = 'Saturday'\n",
    "    str4 = 'Sunday'\n",
    "    print('No. of Operations required: ', minimum_edit_distance(str3, str4, len(str3), len(str4)))"
   ]
  },
  {
   "cell_type": "markdown",
   "metadata": {},
   "source": [
    "# Using Built-In Functions\n"
   ]
  },
  {
   "cell_type": "code",
   "execution_count": 5,
   "metadata": {},
   "outputs": [
    {
     "data": {
      "text/plain": [
       "3"
      ]
     },
     "execution_count": 5,
     "metadata": {},
     "output_type": "execute_result"
    }
   ],
   "source": [
    "import editdistance\n",
    "editdistance.eval('Saturday', 'Sunday')"
   ]
  },
  {
   "cell_type": "code",
   "execution_count": null,
   "metadata": {},
   "outputs": [],
   "source": []
  }
 ],
 "metadata": {
  "kernelspec": {
   "display_name": "Python 3.10.4 64-bit",
   "language": "python",
   "name": "python3"
  },
  "language_info": {
   "codemirror_mode": {
    "name": "ipython",
    "version": 3
   },
   "file_extension": ".py",
   "mimetype": "text/x-python",
   "name": "python",
   "nbconvert_exporter": "python",
   "pygments_lexer": "ipython3",
   "version": "3.10.4"
  },
  "orig_nbformat": 4,
  "vscode": {
   "interpreter": {
    "hash": "916dbcbb3f70747c44a77c7bcd40155683ae19c65e1c03b4aa3499c5328201f1"
   }
  }
 },
 "nbformat": 4,
 "nbformat_minor": 2
}
